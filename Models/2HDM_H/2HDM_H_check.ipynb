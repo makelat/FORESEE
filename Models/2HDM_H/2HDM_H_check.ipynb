{
 "cells": [
  {
   "cell_type": "markdown",
   "metadata": {},
   "source": [
    "# FORESEE Models: light scalar H of the Type-I 2HDM "
   ]
  },
  {
   "cell_type": "markdown",
   "metadata": {},
   "source": [
    "## Load Libraries "
   ]
  },
  {
   "cell_type": "code",
   "execution_count": 4,
   "metadata": {},
   "outputs": [
    {
     "name": "stderr",
     "output_type": "stream",
     "text": [
      "/Users/abraham/Documents/GitHub/FORESEE/Models/2HDM_H/../../src/foresee.py:1461: NumbaDeprecationWarning: The 'nopython' keyword argument was not supplied to the 'numba.jit' decorator. The implicit default value for this argument is currently False, but it will be changed to True in Numba 0.59.0. See https://numba.readthedocs.io/en/stable/reference/deprecation.html#deprecation-of-object-mode-fall-back-behaviour-when-using-jit for details.\n",
      "  def boostlist(arr_particle, arr_boost):\n"
     ]
    }
   ],
   "source": [
    "import sys, os\n",
    "src_path = \"../../\"\n",
    "sys.path.append(src_path)\n",
    "\n",
    "import numpy as np\n",
    "from src.foresee import Foresee, Utility, Model\n",
    "from matplotlib import pyplot as plt"
   ]
  },
  {
   "cell_type": "markdown",
   "metadata": {},
   "source": [
    "## 1. Specifying the Model "
   ]
  },
  {
   "cell_type": "markdown",
   "metadata": {},
   "source": [
    "In this notebook, we consider a light scalar $H$ of the the type-I 2HDM. Unlike for other types of 2HDMs, in this case the scalar becomes very weakly coupled for large values of $\\tan\\beta$ and small values of $\\cos(\\beta-\\alpha)$. This has two consequences: i) such particle can avoid existing constrains, and ii) its lifetime can be macroscopic which allows us to probe such particle via long-lived particles searches. \n",
    "\n",
    "In the more general case, the phenomenology of the light scalar $H$ can be described by the following Lagrangian\n",
    "\n",
    "\\begin{equation}\n",
    " \\mathcal{L} =  - m_{H^+}^2 H^+ H^- - \\frac{1}{2} m_{H}^2 H^2  -  \\sum_f  \\frac{s_\\alpha}{c_\\beta}y_f \\ \\bar f f  H  - c_{\\beta-\\alpha} \\frac{2m_W}{v} H W^{\\mu+} W^-_\\mu - c_{\\beta-\\alpha} \\frac{m_Z}{v} H Z^{\\mu} Z_\\mu - \\lambda_{H H^+ H^-} H H^+ H^- - \\lambda_{h H H} h H H\n",
    "\\end{equation}\n",
    "\n",
    "with the Higgs mass $m_{H}$, the mixing parameter $\\tan\\theta$ and $c_{\\beta-\\alpha}$ as free parameters. Additionally, we have the tri-linear coupling $\\lambda_{H H^+ H^-}$ and $\\lambda_{h H H}$, which depend on the masses an coupling parameters of the 2HDM. In particular, the value of $\\lambda_{H H^+ H^-}$ has an impact on decay width into di-photons. \n",
    "\n",
    "To reduce the dimensionality of the parameter space and to avoid existing constraints, we make a serious of assumptions:\n",
    "- We us choose $\\lambda v^2 = 0$ which avoids the vaccum stability and perturbative unitarity bounds. This implies $\\lambda_{H H^{+} H^{-} } = - 2 m_{H^{\\pm}}^{2}/v \\times c_{\\beta-\\alpha}$\n",
    "- We choose $m_A = m_H^+ = 600$ GeV, which avoids bounds from EWPM while remaining allowed with flavour constraints from $b \\to s \\gamma$. \n",
    "- We choose $\\cos_{\\beta-\\alpha}=1/\\tan\\beta$, which leads to a suppressed SM Higgs decay branching fraction into the light Higgs at high values of $\\tan\\beta$: ${\\rm Br}(h\\to HH) = 25/\\tan^4\\beta$.\n",
    "\n",
    "In this scenario, the Lagrangian becomes\n",
    "\\begin{equation}\n",
    " \\mathcal{L} =  - \\frac{1}{2} \\color{red}{m_{H}}^2 H^2  -  \\sum_f \\frac{1}{2 \\color{red}{\\tan^2\\beta}} y_f \\ \\bar f f  H  - \\frac{1}{\\color{red}{\\tan\\beta}}\\frac{2m_W}{v} H W^{\\mu+} W^-_\\mu - \\frac{1}{\\color{red}{\\tan\\beta}} \\frac{m_Z}{v} H Z^{\\mu} Z_\\mu - \\frac{2 m_{H^{\\pm}}^{2} }{v \\color{red}{\\tan\\beta}} H H^+ H^- - \\frac{m_h^2 }{ 4 v \\color{red}{\\tan^2\\beta}} h H H\n",
    "\\end{equation}\n",
    "\n",
    "with the light scalar mass $m_H$ and the coupling parameter $\\tan\\beta$ as the only free parameters. "
   ]
  },
  {
   "cell_type": "code",
   "execution_count": 2,
   "metadata": {},
   "outputs": [],
   "source": [
    "energy = \"13.6\"\n",
    "modelname = \"2HDM_H\"\n",
    "model = Model(modelname)"
   ]
  },
  {
   "cell_type": "markdown",
   "metadata": {},
   "source": [
    "### B > KH\n",
    "**Production**  The light Higgs is produced in the FCNC B-meson decays. Let us consider the following interaction Lagrangian \n",
    "\n",
    "\n",
    "\\begin{equation}\n",
    " \\mathcal{L}_{H sb}=g_{\\phi sb} H \\, ( \\bar{s}_L b_R + \\bar{b}_L s_R) = \\xi_{H sb} \\frac{m_b}{v} H \\, ( \\bar{s}_L b_R + \\bar{b}_L s_R)  \\ . \n",
    "\\end{equation}\n",
    "\n",
    "Following the recommendation of the [2309.12793](https://arxiv.org/abs/2309.12793) App. C, the decay branching fraction in the spectator model is\n",
    "\n",
    "\\begin{equation}\n",
    "BR_{B \\rightarrow X_s\\phi} = \\frac{1}{\\Gamma_B}  \\frac{(m_B^2-m_\\phi^2)^2}{32\\pi\\,m_B^3}\\, |g_{\\phi sb}|^2  \n",
    "\\end{equation}\n",
    "\n",
    "\n",
    "The FCNC coupling is given in Eq 4.21 of [2212.06186](https://arxiv.org/abs/2212.06186) (where we make the substitution $g= \\xi \\times m_b / v) $: \n",
    "\n",
    "\\begin{equation}\n",
    "g_{H s b}=- \\frac{m_b}{4\\pi^2 v^3} \\sum_k V_{ki}^* V_{kj} m_k^2  \\left[ g_1(x_k, x_{H^\\pm}) \\cos(\\beta-\\alpha)   -g_2(x_k, x_{H^\\pm})\\sin(\\beta-\\alpha)-g_0(x_k, x_{H^\\pm}) \\frac{2v}{m_W^2} \\lambda_{H H^+ H^-}   \\right]  \n",
    "\\end{equation}\n",
    "\n",
    "with \n",
    "\n",
    "\\begin{aligned}\n",
    " \\frac{2v}{m_W^2} \\lambda_{H^{+} H^{-} H}&=-\\frac{2}{m_W^2}\\left(2 m_{H^{\\pm}}^{2}-m_{H}^{2}\\right) c_{\\beta-\\alpha} \\approx -\\frac{4 m_{H^\\pm}^2}{ m_W^2 \\tan\\beta} = -\\frac{4 x_{H^\\pm}}{ \\tan\\beta}  \\\\\n",
    " X_1(x_k, x_{H^\\pm})&=-\\frac{1}{4}\\left\\{ \\left[\\frac{x_{H^\\pm}}{x_{H^\\pm}-x_k}-\\frac{6}{(x_k-1)^2}+3\\right]-\\frac{x_{H^\\pm}(3x_{H^\\pm}-2 x_k)}{(x_{H^\\pm}-x_k)^2}\\log x_{H^\\pm}  +\\left[\\frac{x_{H^\\pm}(3x_{H^\\pm}-2x_k)}{(x_{H^\\pm}-x_k)^2}+\\frac{3 (x_k+1)}{(x_k-1)^3}\\right]\\log x_k\\right\\}, \\\\\n",
    "    X_2(x_k, x_{H^\\pm})&=\\frac{x_k(5x_{H^\\pm}-3x_k)}{4(x_{H^\\pm}-x_k)^2}-\\frac{x_{H^\\pm}x_k(2 x_{H^\\pm}-x_k)}{2 (x_{H^\\pm}-x_k)^3}\\log\\frac{x_{H^\\pm}}{x_k}, \\\\\n",
    " g_0(x_k, x_{H^\\pm}) &=-\\cot^2\\beta\\frac{3x_{H^\\pm}^2-4x_{H^\\pm}x_k+x_k^2-2x_k(2x_{H^\\pm}-x_k)\\log\\frac{x_{H^\\pm}}{x_k}}{16 (x_{H^\\pm}-x_k)^3}, \\\\\n",
    " g_1(x_k, x_{H^\\pm}) &=-\\frac{3}{4}+\\cot^2\\beta\\frac{x_k\\left[5x_{H^\\pm}^2-8x_{H^\\pm}x_k+3x_k^2-2x_{H^\\pm}(2x_{H^\\pm}-x_k) \\log\\frac{x_{H^\\pm}}{x_k}\\right]}{4(x_{H^\\pm}-x_k)^3}, \\\\\n",
    " g_2(x_k, x_{H^\\pm}) &=\\cot\\beta X_1(x_k, x_{H^\\pm})+\\cot^3\\beta X_2(x_k, x_{H^\\pm}),\n",
    "\\end{aligned}\n",
    "\n",
    "Using $x_t = m_t^2/m_W^2$ and $x_{H^\\pm} = m_{H^\\pm}^2/m_W^2$ with $m_H^+=600$ GeV we get\n",
    "\n",
    "\\begin{aligned}\n",
    " \\frac{2v}{m_W^2} \\lambda_{H^{+} H^{-} H}&= -\\frac{222.76}{ \\tan\\beta}  \\\\\n",
    " g_0(x_k, x_{H^\\pm}) &=-\\frac{0.0027314}{\\tan^2\\beta}  \\\\\n",
    " g_1(x_k, x_{H^\\pm}) &=-\\frac{3}{4}- \\frac{0.1415}{\\tan^2\\beta} \\\\\n",
    " g_2(x_k, x_{H^\\pm}) &=\\frac{1.0386}{\\tan\\beta} - \\frac{0.1415}{\\tan^3\\beta} \n",
    "\\end{aligned}\n",
    "\n",
    "Putting everything together, we get \n",
    "\n",
    "\\begin{equation}\n",
    "g_{H s b}= -9.86 \\cdot 10^{-6} \\times \\left[ -\\frac{3}{4\\tan\\beta}- \\frac{0.1415}{\\tan^3\\beta} - \\left(\\frac{1.0386}{\\tan\\beta} - \\frac{0.1415}{\\tan^3\\beta}\\right)\\times \\left(1- \\frac{1}{\\tan^2\\beta} \\right)^{1/2} - \\frac{0.608446664}{\\tan^3\\beta} \\right]  \n",
    "\\end{equation}\n",
    "\n",
    "and \n",
    "\n",
    "\\begin{aligned}\n",
    "BR_{B \\rightarrow X_s\\phi} & =\\left(1 -\\frac{m_\\phi^2}{m_B^2} \\right)^2  \\frac{m_B}{\\Gamma_B}  \\frac{1}{32\\pi }\\, |g_{\\phi sb}|^2  \\\\\n",
    "& = 9.6854\\cdot 10^{-13} \\times \\left(1 -\\frac{m_\\phi^2}{m_B^2} \\right)^2  \\frac{m_B}{\\Gamma_B} \\times \\left[ -\\frac{3}{4\\tan\\beta}- \\frac{0.1415}{\\tan^3\\beta} - \\left(\\frac{1.0386}{\\tan\\beta} - \\frac{0.1415}{\\tan^3\\beta}\\right)\\times \\left(1- \\frac{1}{\\tan^2\\beta} \\right)^{1/2} - \\frac{0.608446664}{\\tan^3\\beta} \\right]^2\n",
    "\\end{aligned}\n",
    "\n",
    "\n",
    "\n",
    "**NOTE: IN THE ORIGINAL VERSION OF THE NOTEBOOK, WE WERE EFFECTIVELY USING. WE USE THE SAME HERE. BUT THIS SHOULD BE FIXED!**\n",
    "\n",
    "\\begin{equation}\n",
    "g_{H s b}= -9.86 \\cdot 10^{-6} \\times \\left[ -\\frac{3}{4\\tan\\beta} - \\frac{0.1415}{\\tan^3\\beta} \\color{red}{+} \\left(\\frac{1.0386}{\\tan\\beta} - \\frac{0.1415}{\\tan^3\\beta}\\right)\\times \\left(1- \\frac{1}{\\tan^2\\beta} \\right)^{1/2} - \\frac{0.608446664}{\\tan^3\\beta} \\right]  \n",
    "\\end{equation}\n",
    "\n",
    "\n",
    "**WE SHOULD ALSO VALIDATE THE B>KHH PRODUCTION CHANNEL**"
   ]
  },
  {
   "cell_type": "code",
   "execution_count": 3,
   "metadata": {},
   "outputs": [
    {
     "name": "stdout",
     "output_type": "stream",
     "text": [
      "f_lamdba -222.7667631989307\n",
      "f_x1 1.0385989246323903\n",
      "f_x2 -0.1415273191118425\n",
      "f_g0 -0.0027314338645069397\n",
      "f_g1 -0.1415273191118424\n",
      "f_pre -9.867556115057588e-06\n"
     ]
    }
   ],
   "source": [
    "def f_lamdba(mH=600, mt=175, mW=80.4):\n",
    "    xH, xt = mH**2/mW**2, mt**2/mW**2\n",
    "    return -4*xH\n",
    "\n",
    "def f_x1(mH=600, mt=175, mW=80.4):\n",
    "    xH, xt = mH**2/mW**2, mt**2/mW**2\n",
    "    term1 = xH/(xH-xt) - 6/(xt-1)**2 + 3\n",
    "    term2 = xH * (3*xH-2*xt)/(xH-xt)**2 \n",
    "    term3 = xH * (3*xH-2*xt)/(xH-xt)**2 + 3*(xt+1)/(xt-1)**3\n",
    "    return - 1/4 * (term1-term2 * np.log(xH) +term3*np.log(xt))\n",
    "\n",
    "def f_x2(mH=600, mt=175, mW=80.4):\n",
    "    xH, xt = mH**2/mW**2, mt**2/mW**2\n",
    "    term1 = xt * (5*xH - 3*xt) / 4/(xH-xt)**2 \n",
    "    term2 = xH *xt * (2*xH - xt) / 2/(xH-xt)**3\n",
    "    return term1-term2*np.log(xH/xt)\n",
    "\n",
    "def f_g0(mH=600, mt=175, mW=80.4):\n",
    "    xH, xt = mH**2/mW**2, mt**2/mW**2\n",
    "    term1 = 3*xH**2 - 4*xH*xt + xt**2 - 2*xt*(2*xH-xt)*np.log(xH/xt)\n",
    "    return -1*term1 / ( 16*(xH-xt)**3 )\n",
    "\n",
    "def f_g1(mH=600, mt=175, mW=80.4):\n",
    "    xH, xt = mH**2/mW**2, mt**2/mW**2\n",
    "    term1 = 5*xH**2 - 8*xH*xt + 3*xt**2 - 2*xH*(2*xH-xt)*np.log(xH/xt)\n",
    "    return term1 * xt/ ( 4*(xH-xt)**3 )\n",
    "\n",
    "def f_pre(mH=600, mt=175, mW=80.4):\n",
    "    mb, v, vst, vbt =4.5, 246, 0.0415, 1.014\n",
    "    return - mb / (4*np.pi**2 * v**3) * vst * vbt * mt**2  \n",
    "\n",
    "print(\"f_lamdba\", f_lamdba())\n",
    "print(\"f_x1\", f_x1())\n",
    "print(\"f_x2\", f_x2())\n",
    "print(\"f_g0\", f_g0())\n",
    "print(\"f_g1\", f_g1())\n",
    "print(\"f_pre\", f_pre())"
   ]
  },
  {
   "cell_type": "code",
   "execution_count": 69,
   "metadata": {},
   "outputs": [],
   "source": [
    "def get_br_paper(mass, coupling, sign=1):\n",
    "    mb, v, vst, vbt, vcb =4.5, 246, 0.0415, 1.014, 0.04\n",
    "    ghsb =  -9.86e-6*(-3/4/coupling -0.1415/coupling**3 +sign* (1.0386/coupling-0.1415/coupling**3)*np.sqrt(1-1/coupling**2)-0.608446664/coupling**3)\n",
    "    xi = v/mb* ghsb\n",
    "    br_xcenu = 0.1\n",
    "    return 12 * np.pi**2  * v**2/ mb**2 * (1-mass**2/mb**2)**2 * 1/0.5 * xi**2 / vcb**2 * br_xcenu"
   ]
  },
  {
   "cell_type": "code",
   "execution_count": 70,
   "metadata": {},
   "outputs": [
    {
     "data": {
      "image/png": "[encoded data removed]",
      "text/plain": [
       "<Figure size 432x288 with 1 Axes>"
      ]
     },
     "metadata": {
      "needs_background": "light"
     },
     "output_type": "display_data"
    }
   ],
   "source": [
    "mass=1\n",
    "couplings = np.logspace(0,3,161)\n",
    "foresee = Foresee(path=src_path)\n",
    "br_new = \"9.68544e-13 * foresee.masses('511')/ foresee.widths('511') * (1-(mass/foresee.masses('511'))**2)**2  * (-3/4/coupling -0.1415/coupling**3 + (1.0386/coupling-0.1415/coupling**3)*np.sqrt(1-1/coupling**2)-0.608446664/coupling**3)**2 \"    \n",
    "#\"9.68544e-13 * foresee.masses('511')/ foresee.widths('511') * (1-(mass/foresee.masses('511'))**2)**2  * (-3/4/coupling -0.1415/coupling**3 - (1.0386/coupling-0.1415/coupling**3)*np.sqrt(1-1/coupling**2)-0.608446664/coupling**3)**2 \"\n",
    "brs_new = [eval(br_new) for coupling in couplings]\n",
    "br_old = \"(1 - 0.0572331*mass**2)**2*(-0.24314154523573*pow(1/coupling,8) +5.0878*pow(10,7)*(1/coupling)**2*(4.1087602837281734*pow(10,-7) - 3.8824784955758917*pow(10,-7)*np.sqrt(1 - pow(1/coupling,2)) ) +5.0878*pow(10,7)*(1/coupling)**4*(-6.84665542*pow(10,-8) - 3.36849177820*pow(10,-7)*np.sqrt(1 - pow(1/coupling,2)) ) +5.0878*pow(10,7)*(1/coupling)**6*(2.1517750474943*pow(10,-7) +5.139867173701*pow(10,-8)*np.sqrt(1 - pow(1/coupling,2)) )  ) \"\n",
    "brs_old = [eval(br_old) for coupling in couplings]\n",
    "brs_check = [get_br_paper(mass,coupling, sign=1) for coupling in couplings]\n",
    "\n",
    "\n",
    "plt.plot(couplings, brs_new, label = 'new expression')\n",
    "plt.plot(couplings, brs_old , label='2212.06186')\n",
    "plt.plot(couplings, brs_check , label='by hand')\n",
    "plt.xscale(\"log\")\n",
    "plt.yscale(\"log\")\n",
    "plt.legend()\n",
    "plt.show()\n"
   ]
  },
  {
   "cell_type": "markdown",
   "metadata": {},
   "source": [
    "### B>KHH (loop)\n",
    "\n",
    "**Production**  The light Higgs can also be produced via loop induced flavor changing quark interaction. The corresponding diagrams and formula can be found in Appendix E [here](https://link.springer.com/article/10.1007/JHEP08(2023)001). (the arXiv version does not have this appendix.)\n",
    "\n",
    "Let us consider the following interaction Lagrangian \n",
    "\\begin{equation}\n",
    " \\mathcal{L}_{HHsb}=\\xi^{sb}_{HH} \\frac{H^2}{v^2}m_{b}\\bar{s}P_{R}b + h.c\n",
    "\\end{equation}\n",
    "\n",
    "The differential BR is given by (multiply eq. E.6 by 0.2 to get dB/dq2/dcosth)\n",
    "\n",
    "\\begin{equation}\n",
    " \\frac{dBR_{b\\rightarrow sHH}}{dq^2dCos(\\theta)} = \\frac{1}{\\Gamma_b} \\frac{|\\xi^{sb}_{HH}|^2}{128\\pi^3v^4m_b}* \\left(1-\\frac{4*m_H^2}{q^2}\\right)^{1/2} \\left[\\lambda(m^2_b,m^2_s,q^2)\\right]^{1/2}*\\left[(m_b-m_s)^2-q^2\\right]\n",
    "\\end{equation}\n",
    "Here $\\lambda \\left(a,b,c\\right) = a^2 +  b^2 + c^2 -2(ab + ac + bc)$, from [0902.0160](https://arxiv.org/pdf/0902.0160) and $q^2=(p_b-p_s)^2$. Taking $m_s \\rightarrow 0$ we get,\n",
    "\n",
    "\\begin{align}\n",
    " \\frac{dBR_{b\\rightarrow sHH}}{dq^2dCos(\\theta)} &= \\frac{1}{\\Gamma_b} \\frac{|\\xi^{sb}_{HH}|^2}{128\\pi^3v^4m_b}* \\left(1-\\frac{4*m_H^2}{q^2}\\right)^{1/2} *\\left(m_b^2-q^2\\right)^2 \\\\\n",
    " &= \\frac{1}{\\Gamma_b} \\frac{|\\xi^{sb}_{HH}|^2m_b^3}{128\\pi^3v^4}* \\left(1-\\frac{4*m_H^2}{q^2}\\right)^{1/2} *\\left(1-\\frac{q^2}{m_b^2}\\right)^2\n",
    "\\end{align}\n",
    "\n",
    "Expression for $\\xi^{sb}_{HH}$ is given by eq. E.2.\n",
    "\n",
    "\\begin{equation}\n",
    "    \\xi^{sb}_{HH} = \\frac{g^2}{64\\pi^2} \\sum_k V^*_{ki}\\left[  f_0(x_k,x_{H^{\\pm}})  + f_1(x_k,x_{H^{\\pm}}) \\log{x_k} + f_2(x_k,x_{H^{\\pm}}) \\log{x_{H^{\\pm}}}    \\right] V_{kj}\n",
    "\\end{equation}\n",
    "\n",
    "with\n",
    "\n",
    "\\begin{align}\n",
    "f_0(x_k,x_{H^{\\pm}}) &= -\\frac{6x_k^2-x_kx_{H^{\\pm}}\\left(x_k^2-2x_k+7\\right) + 2x^2_{H^{\\pm}}\\left(x_k-1\\right)^2}{\\left(x_k-1\\right)^2\\left(x_{H^{\\pm}}-x_k\\right)}    \\\\\n",
    "f_1(x_k,x_{H^{\\pm}}) &= -\\frac{3x_k\\left(x_k+1\\right) - 2x_{H^{\\pm}}\\left(x_k^3-3x_k^2+6x_k+2\\right) + 3x_{H_{\\pm}}^2\\left(x_k^2-3x_k+4\\right)}{\\left(x_k-1\\right)^3\\left(x_{H^{\\pm}}-x_k\\right)^2} \\\\\n",
    "f_2(x_k,x_{H^{\\pm}}) &= \\frac{x^2_{H^{\\pm}}\\left(2x_{H^{\\pm}}-x_k\\right)}{\\left(x_{H^{\\pm}}-x_k\\right)^2}\n",
    "\\end{align}\n",
    "\n",
    "\n",
    "Here $x_f=\\frac{m_f^2}{m_W^2}$, and $x_{H^{\\pm}}=\\frac{m_{H^{\\pm}}^2}{m_W^2}$ and $m_{H^{\\pm}}=600$ GeV, $m_b=4.5$ GeV. Summing over $k=t,c,u$ quarks, we get\n",
    "\n",
    "\\begin{align}\n",
    "\\xi^{sb}_{HH} &= 0.000893935\n",
    "\\end{align}\n",
    "\n",
    "With $v=246$ GeV we get the differential BR as,\n",
    "\n",
    "\\begin{equation}\n",
    " \\frac{dBR_{b\\rightarrow sHH}}{dq^2dCos(\\theta)} =  (5.4980)\\times10^{-20}*\\frac{m_b^3}{\\Gamma_b}* \\left(1-\\frac{4*m_H^2}{q^2}\\right)^{1/2} *\\left(1-\\frac{q^2}{m_b^2}\\right)^2\n",
    "\\end{equation}\n",
    "\n"
   ]
  },
  {
   "cell_type": "code",
   "execution_count": 7,
   "metadata": {},
   "outputs": [],
   "source": [
    "# define functions\n",
    "# mH=600, mt=175, mW=80.4\n",
    "\n",
    "def f0(mH=600, mt=175, mW=80.4):\n",
    "    xH, xt = mH**2/mW**2, mt**2/mW**2\n",
    "    term1 = 6 * xt**2\n",
    "    term2 = xt * xH * (xt**2 - 2*xt + 7)\n",
    "    term3 = 2 * xH**2 * (xt-1)**2\n",
    "    dr = (xt-1)**2 * (xH-xt)\n",
    "    nr = term1 - term2 + term3\n",
    "\n",
    "    return -nr/dr\n",
    "\n",
    "def f1(mH=600, mt=175, mW=80.4):\n",
    "    xH, xt = mH**2/mW**2, mt**2/mW**2\n",
    "    term1 = 3 * xt * (xt+1)\n",
    "    term2 = 2 * xH * (xt**3 - 3*xt**2 + 6*xt + 2)\n",
    "    term3 = 3 * xH**2 * (xt**2 - 3*xt + 4)\n",
    "    nr = term1 - term2 + term3\n",
    "    dr = (xt-1)**3 * (xH-xt)**2\n",
    "\n",
    "    return -nr/dr\n",
    "\n",
    "def f2(mH=600, mt=175, mW=80.4):\n",
    "    xH, xt = mH**2/mW**2, mt**2/mW**2\n",
    "    nr = xH**2 * (2*xH - xt)\n",
    "    dr = (xH - xt)**2\n",
    "\n",
    "    return nr/dr\n",
    "\n",
    "def xi(mH=600, mt=175, mW=80.4):\n",
    "    xH, xt = mH**2/mW**2, mt**2/mW**2\n",
    "    mb, vst, vbt = 4.5, 0.0415, 1.014\n",
    "    Gf = 1.166e-5\n",
    "    g2 = (8/np.sqrt(2)) * (mW**2 * Gf)\n",
    "    term = g2/(64*np.pi**2) * vst*( f0() + f1()*np.log(xt) + f2()*np.log(xH)  )*vbt\n",
    "\n",
    "    return term\n",
    "    # return g2\n",
    "\n",
    "def prefactor(xi=0.000893935):\n",
    "    Gb, mb, v = 4.3e-13, 4.5, 246\n",
    "    # term = (1/Gb) * (xi()**2 * mb**3)/(128 * np.pi**3 * v**4)\n",
    "    term = (1/Gb) * (xi**2 * mb**3)/(128 * np.pi**3 * v**4)\n",
    "    return term\n",
    "\n",
    "def reduced_prefactor(xi=0.000893935):\n",
    "    Gb, mb, v = 4.3e-13, 4.5, 246\n",
    "    # term = xi()**2/(128 * np.pi**3 * v**4)\n",
    "    term = xi**2/(128 * np.pi**3 * v**4)\n",
    "    \n",
    "    return term"
   ]
  },
  {
   "cell_type": "code",
   "execution_count": 8,
   "metadata": {},
   "outputs": [
    {
     "name": "stdout",
     "output_type": "stream",
     "text": [
      "f0: -114.52677611434612\n",
      "f1: -0.7831320058053445\n",
      "f2: 127.39933724030463\n",
      "$\\xi$: 0.011259067385815075\n",
      "prefactor: 1.1651476201746166e-05\n",
      "reduced prefactor: 5.49809027901328e-20\n"
     ]
    }
   ],
   "source": [
    "print ('f0:', f0())\n",
    "print ('f1:', f1())\n",
    "print ('f2:', f2())\n",
    "print (r'$\\xi$:', xi())\n",
    "print ('prefactor:', prefactor())\n",
    "print ('reduced prefactor:', reduced_prefactor())"
   ]
  },
  {
   "cell_type": "markdown",
   "metadata": {
    "jp-MarkdownHeadingCollapsed": true
   },
   "source": [
    "### B>KHH (tree)\n",
    "\n",
    "The 3 body decay, $b \\rightarrow s H H$ can be modeled similar to dark higgs pair production in the dark higgs model in [1710.09387](https://arxiv.org/pdf/1710.09387). We follow their Eq. 13.\n",
    "\n",
    "\n",
    "**Dark Higgs**\n",
    "\n",
    "Lagrangian\n",
    "\n",
    "$\\mathcal{L}=-m_{\\phi}^2 \\phi^2 - \\sin(\\theta)\\frac{m_f}{v}\\phi\\bar{f}f - \\lambda v h \\phi\\phi$, where $h$ is the SM Higgs, and $\\phi$ is the dark scalar. The trilinear coupling ($\\lambda$) is responsible for the production mode $b \\rightarrow s h^* \\rightarrow s \\phi \\phi$, via the off-shell $h$.\n",
    "\n",
    "( In the 2HDM we have a similar vertex, $\\mathcal{L}\\supset -\\left(\\frac{m^2_{h}}{4 v \\tan^2\\beta}\\right)hHH$  which will be responsible for the $HH$ poduction. )\n",
    "\n",
    "Effective Lagrangian for the $b\\rightarrow s \\phi\\phi$ is\n",
    "\n",
    "$\\mathcal{L} = \\frac{1}{2}m_b\\left(C\\bar{s_L}b_R + C^*\\bar{b_L}s_R\\right)\\phi^2$. (Eq. 11 in [1710.09387](https://arxiv.org/pdf/1710.09387))\n",
    "\n",
    "This leads to a differential decay width as given by Eq. 13. Here $\\lambda \\left(a,b,c\\right) = a^2 +  b^2 + c^2 -2(ab + ac + bc)$, from [0902.0160](https://arxiv.org/pdf/0902.0160). Since the Higgs boson is a spin-0 particle $\\frac{dBR}{dq^2} = 0.5*\\frac{dBR}{dq^2d\\cos(\\theta)}$. Assuming $m_s = 0$ and multiplying by 2 for the two $\\phi$ in the final state we get,\n",
    "\n",
    "$\\frac{dBR}{dq^2d\\cos(\\theta)} = \\frac{\\left(4.9 * 10^{-8} \\mathrm{GeV}^{-2} \\lambda\\right)^2}{\\Gamma_b*256*\\pi^3}*m_b^3*\\left[1-\\frac{4*m_\\phi^2}{q^2}\\right]^{1/2}\\left[1-\\frac{q^2}{m_b^2}\\right]^2$. This is the expression used in the Dark Higgs FORESEE notebook. \n",
    "\n",
    "(Setting $m_b=4.5~\\mathrm{GeV, and}~\\Gamma_{B^0}=4.3*10^{-13}~\\mathrm{GeV}~\\mathrm{and}~ \\lambda=0.0033$ we get,\n",
    "$\\frac{dBR}{dq^2d\\cos(\\theta)} = 6.92*10^{-10}*\\left[1-\\frac{4*m_\\phi^2}{q^2}\\right]^{1/2}\\left[1-\\frac{q^2}{m_b^2}\\right]^2$.)\n",
    "\n",
    "**2HDM**\n",
    "\n",
    "Lets repeat this for 2HDM with the Lagrangian shown previously. The relevant trilinear coupling is $\\left(-\\frac{m_h^2 }{ 4 v \\tan^2\\beta} h H H\\right)$.\n",
    "\n",
    "To make the connection between the two models we have, $\\left(\\frac{m_h^2 }{ 4 v \\tan^2\\beta}\\right) = \\lambda v$ or $\\lambda = \\frac{m_h^2}{4 v^2 \\tan^2\\beta}$. With $m_h=125.25$ GeV, $v=246$ GeV we have $\\lambda = \\frac{0.0648}{\\tan^2\\beta}$. So now we have\n",
    "\n",
    "$\\frac{dBR}{dq^2d\\cos(\\theta)} = \\frac{2.671*10^{-7}}{\\tan^4\\beta}*\\left[1-\\frac{4*m_H^2}{q^2}\\right]^{1/2}\\left[1-\\frac{q^2}{m_b^2}\\right]^2$.\n",
    "\n",
    "\n",
    "(or leaving all the SM particle dependenices, $\\frac{dBR}{dq^2d\\cos(\\theta)} = \\frac{1.270*10^{-21}}{\\tan^4\\beta}*\\frac{m_b^3}{\\Gamma_b}*\\left[1-\\frac{4*m_H^2}{q^2}\\right]^{1/2}\\left[1-\\frac{q^2}{m_b^2}\\right]^2$.)\n"
   ]
  },
  {
   "cell_type": "markdown",
   "metadata": {},
   "source": [
    "# Junk"
   ]
  },
  {
   "cell_type": "code",
   "execution_count": 82,
   "metadata": {},
   "outputs": [],
   "source": [
    "def prefactor():\n",
    "    Gb=4.3e-13 # GeV\n",
    "    v=246\n",
    "    mb=4.5\n",
    "    # mb=4.18\n",
    "    xi=0.000893935\n",
    "    term = (1/Gb) * ( xi**2/ (64. * np.pi**3 ) ) * (mb**5 / v**4) \n",
    "    return term\n",
    "\n",
    "def f(mphi,mb=4.5):\n",
    "    x = mphi/mb\n",
    "    term1 = (1/3) * np.sqrt(1-4*x**2) * (1 + 5*x**2 - 6*x**4)\n",
    "    term2 = 4*x**2 * (1 - 2*x**2 + 2*x**4)*np.log( (1+np.sqrt(1-4*x**2) ) / 2*x )\n",
    "    return term1 - term2\n",
    "\n"
   ]
  },
  {
   "cell_type": "code",
   "execution_count": 83,
   "metadata": {},
   "outputs": [],
   "source": [
    "mb=4.5\n",
    "# factorterm = np.sqrt(1-0.197*pow(mass,2))\n",
    "\n",
    "term1 = prefactor()*(1/3)\n",
    "\n",
    "term2 = prefactor()*(5/3)*(1/mb**2)\n",
    "\n",
    "term3 = prefactor()*(6/3)*(1/mb**4)\n",
    "\n",
    "term4 = prefactor()*(4)*(1/mb**2)\n",
    "\n",
    "term5 = prefactor()*(8)*(1/mb**4)\n",
    "\n",
    "term6 = prefactor()*(8)*(1/mb**6)\n",
    "\n"
   ]
  },
  {
   "cell_type": "code",
   "execution_count": 84,
   "metadata": {},
   "outputs": [
    {
     "name": "stdout",
     "output_type": "stream",
     "text": [
      "term1 =  0.00015729492872357324\n",
      "term2 =  3.883825400582055e-05\n",
      "term3 =  2.3015261633078847e-06\n",
      "term4 =  9.321180961396932e-05\n",
      "term5 =  9.206104653231539e-06\n",
      "term6 =  4.54622452011434e-07\n"
     ]
    }
   ],
   "source": [
    "print ('term1 = ', term1)\n",
    "print ('term2 = ', term2)\n",
    "print ('term3 = ', term3)\n",
    "print ('term4 = ', term4)\n",
    "print ('term5 = ', term5)\n",
    "print ('term6 = ', term6)\n",
    "# print ('term7 = ', term7)"
   ]
  },
  {
   "cell_type": "code",
   "execution_count": 85,
   "metadata": {},
   "outputs": [
    {
     "name": "stdout",
     "output_type": "stream",
     "text": [
      "0.24691358024691357\n"
     ]
    },
    {
     "data": {
      "text/plain": [
       "0.28616614218280645"
      ]
     },
     "execution_count": 85,
     "metadata": {},
     "output_type": "execute_result"
    }
   ],
   "source": [
    "print (term2/term1)\n",
    "0.0000320094/0.000111856"
   ]
  },
  {
   "cell_type": "code",
   "execution_count": 86,
   "metadata": {},
   "outputs": [
    {
     "name": "stdout",
     "output_type": "stream",
     "text": [
      "1.4062270126195577\n"
     ]
    }
   ],
   "source": [
    "# compare old and new term1 for mb=4.18\n",
    "\n",
    "print (term1/0.000111856)"
   ]
  },
  {
   "cell_type": "code",
   "execution_count": 87,
   "metadata": {},
   "outputs": [
    {
     "name": "stdout",
     "output_type": "stream",
     "text": [
      "0.014631915866483767\n"
     ]
    },
    {
     "data": {
      "text/plain": [
       "0.019653820181894873"
      ]
     },
     "execution_count": 87,
     "metadata": {},
     "output_type": "execute_result"
    }
   ],
   "source": [
    "print (term3/term1)\n",
    "2.1983977102660327e-6/0.000111856"
   ]
  },
  {
   "cell_type": "code",
   "execution_count": 88,
   "metadata": {},
   "outputs": [
    {
     "name": "stdout",
     "output_type": "stream",
     "text": [
      "0.5925925925925926\n"
     ]
    },
    {
     "data": {
      "text/plain": [
       "0.6867988154922797"
      ]
     },
     "execution_count": 88,
     "metadata": {},
     "output_type": "execute_result"
    }
   ],
   "source": [
    "print (term4/term1)\n",
    "0.00007682256830570443/0.000111856"
   ]
  },
  {
   "cell_type": "code",
   "execution_count": 51,
   "metadata": {},
   "outputs": [
    {
     "name": "stdout",
     "output_type": "stream",
     "text": [
      "0.05852766346593507\n"
     ]
    },
    {
     "data": {
      "text/plain": [
       "0.07861528072757948"
      ]
     },
     "execution_count": 51,
     "metadata": {},
     "output_type": "execute_result"
    }
   ],
   "source": [
    "print (term5/term1)\n",
    "8.793590841064129e-6/0.000111856"
   ]
  },
  {
   "cell_type": "code",
   "execution_count": 89,
   "metadata": {},
   "outputs": [
    {
     "name": "stdout",
     "output_type": "stream",
     "text": [
      "0.0028902549859721022\n"
     ]
    },
    {
     "data": {
      "text/plain": [
       "0.004499397949198707"
      ]
     },
     "execution_count": 89,
     "metadata": {},
     "output_type": "execute_result"
    }
   ],
   "source": [
    "print (term6/term1)\n",
    "5.032846570055706e-7/0.000111856"
   ]
  },
  {
   "cell_type": "code",
   "execution_count": 98,
   "metadata": {},
   "outputs": [
    {
     "name": "stdout",
     "output_type": "stream",
     "text": [
      "0.709082338861004\n"
     ]
    }
   ],
   "source": [
    "br_top = \"np.sqrt(1 - 0.197*pow(mass,2)) * (0.01234 + 0.00304*pow(mass,2) - 0.0001806384*pow(mass,4)) +  pow(mass,2) * (-0.007315 + 0.00072255*pow(mass,2) - 3.56816e-05*pow(mass,4)) * np.log((2.25 * (1+np.sqrt(1-0.197*pow(mass,2))))/mass) \"\n",
    "br_new = \"np.sqrt(1 - 0.197*pow(mass,2)) * (0.00015729 + 3.883825400582055e-05*pow(mass,2) - 2.3015261633078847e-06*pow(mass,4)) +  pow(mass,2) * (-9.321180961396932e-05 + 9.206104653231539e-06*pow(mass,2) - 4.54622452011434e-07*pow(mass,4)) * np.log((2.25 * (1+np.sqrt(1-0.197*pow(mass,2))))/mass) \"\n",
    "br_old = 'np.sqrt(1 - 0.22893248780934505*pow(mass,2))*(0.000111856 + 0.0000320094*pow(mass,2) - 2.1983977102660327e-6*pow(mass,4)) + pow(mass,2)*(-0.00007682256830570443 + 8.793590841064129e-6*pow(mass,2) - 5.032846570055706e-7*pow(mass,4))* np.log((2.09*(1 + np.sqrt(1 - 0.22893248780934505*pow(mass,2))))/mass)'\n",
    "\n",
    "\n",
    "mass=0.1\n",
    "# print (eval(br_new))\n",
    "# print (eval(br_old))\n",
    "\n",
    "print ( eval(br_old) / eval(br_new) )"
   ]
  },
  {
   "cell_type": "code",
   "execution_count": 99,
   "metadata": {},
   "outputs": [
    {
     "name": "stderr",
     "output_type": "stream",
     "text": [
      "<string>:1: RuntimeWarning: invalid value encountered in sqrt\n"
     ]
    }
   ],
   "source": [
    "masses=np.logspace(-1,np.log(2),40)\n",
    "br_old_values = [eval(br_old) for mass in masses]\n",
    "br_new_values = [eval(br_new) for mass in masses]\n",
    "br_top_values = [eval(br_top) for mass in masses]"
   ]
  },
  {
   "cell_type": "code",
   "execution_count": 107,
   "metadata": {},
   "outputs": [
    {
     "data": {
      "image/png": "[encoded data removed]",
      "text/plain": [
       "<Figure size 432x288 with 1 Axes>"
      ]
     },
     "metadata": {
      "needs_background": "light"
     },
     "output_type": "display_data"
    }
   ],
   "source": [
    "plt.plot(masses,br_old_values, color='black', label='huayang , mb=4.18')\n",
    "plt.plot(masses,br_new_values,  color='red', label='roshan, mb=4.5')\n",
    "plt.plot(masses,br_top_values,  color='red',linestyle='dashed', label='top only, mb=4.5')\n",
    "plt.legend()\n",
    "plt.xlabel(r'$m_\\phi$ [GeV]')\n",
    "plt.ylabel('Total BR')\n",
    "plt.xlim(0,2)\n",
    "# plt.ylim(0,16e-5)\n",
    "# plt.xscale('log')\n",
    "plt.yscale('log')\n",
    "plt.show()"
   ]
  },
  {
   "cell_type": "code",
   "execution_count": 9,
   "metadata": {},
   "outputs": [],
   "source": [
    "from particle import Particle\n",
    "def widths(pid):\n",
    "    \"\"\"\n",
    "    Retrieve particle widths from scikit-particle API\n",
    "\n",
    "    Parameters\n",
    "    ----------\n",
    "    pid:  int / str\n",
    "        The PDG ID for which to request width\n",
    "\n",
    "    Returns\n",
    "    -------\n",
    "    Particle width as float\n",
    "    \"\"\"\n",
    "    try:\n",
    "        width = Particle.from_pdgid(int(pid)).width\n",
    "    except:\n",
    "        width = 0.0\n",
    "        print('WARNING '+str(pid)+' width not obtained from scikit-particle, returning 0')\n",
    "    return width*1e-3 if width!=None else 0.0"
   ]
  },
  {
   "cell_type": "code",
   "execution_count": 10,
   "metadata": {},
   "outputs": [
    {
     "data": {
      "text/plain": [
       "4.333e-13"
      ]
     },
     "execution_count": 10,
     "metadata": {},
     "output_type": "execute_result"
    }
   ],
   "source": [
    "\n",
    "widths(511)"
   ]
  },
  {
   "cell_type": "code",
   "execution_count": 96,
   "metadata": {},
   "outputs": [
    {
     "data": {
      "text/plain": [
       "2.302585092994046"
      ]
     },
     "execution_count": 96,
     "metadata": {},
     "output_type": "execute_result"
    }
   ],
   "source": [
    "np.log(10)"
   ]
  },
  {
   "cell_type": "code",
   "execution_count": 97,
   "metadata": {},
   "outputs": [
    {
     "name": "stderr",
     "output_type": "stream",
     "text": [
      "/var/folders/jz/7_hghn6x3zz3hlx7q87ky4080000gn/T/ipykernel_10892/2104861374.py:1: RuntimeWarning: invalid value encountered in log\n",
      "  np.log(-10)\n"
     ]
    },
    {
     "data": {
      "text/plain": [
       "nan"
      ]
     },
     "execution_count": 97,
     "metadata": {},
     "output_type": "execute_result"
    }
   ],
   "source": [
    "np.log(-10)"
   ]
  },
  {
   "cell_type": "code",
   "execution_count": 72,
   "metadata": {},
   "outputs": [
    {
     "data": {
      "text/plain": [
       "0.7148155062710942"
      ]
     },
     "execution_count": 72,
     "metadata": {},
     "output_type": "execute_result"
    }
   ],
   "source": [
    "(4.18/4.5)**5 * 4.3/4.16"
   ]
  },
  {
   "cell_type": "code",
   "execution_count": null,
   "metadata": {},
   "outputs": [],
   "source": []
  }
 ],
 "metadata": {
  "interpreter": {
   "hash": "949777d72b0d2535278d3dc13498b2535136f6dfe0678499012e853ee9abcab1"
  },
  "kernelspec": {
   "display_name": "Python 3 (ipykernel)",
   "language": "python",
   "name": "python3"
  },
  "language_info": {
   "codemirror_mode": {
    "name": "ipython",
    "version": 3
   },
   "file_extension": ".py",
   "mimetype": "text/x-python",
   "name": "python",
   "nbconvert_exporter": "python",
   "pygments_lexer": "ipython3",
   "version": "3.10.5"
  },
  "toc": {
   "base_numbering": 1,
   "nav_menu": {
    "height": "734px",
    "width": "465px"
   },
   "number_sections": true,
   "sideBar": true,
   "skip_h1_title": false,
   "title_cell": "Table of Contents",
   "title_sidebar": "Contents",
   "toc_cell": false,
   "toc_position": {},
   "toc_section_display": true,
   "toc_window_display": false
  }
 },
 "nbformat": 4,
 "nbformat_minor": 4
}
